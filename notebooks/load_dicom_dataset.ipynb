{
 "cells": [
  {
   "cell_type": "code",
   "execution_count": null,
   "id": "a812425a-908b-44dc-aa47-1d5d63afed09",
   "metadata": {},
   "outputs": [
    {
     "name": "stdout",
     "output_type": "stream",
     "text": [
      "Project ID:  medical-imaging-ai\n"
     ]
    }
   ],
   "source": [
    "import os\n",
    "\n",
    "PROJECT_ID = \"\"\n",
    "\n",
    "if not os.getenv(\"IS_TESTING\"):\n",
    "    # Get your Google Cloud project ID from gcloud\n",
    "    shell_output=!gcloud config list --format 'value(core.project)' 2>/dev/null\n",
    "    PROJECT_ID = shell_output[0]\n",
    "    print(\"Project ID: \", PROJECT_ID)"
   ]
  },
  {
   "cell_type": "code",
   "execution_count": 12,
   "id": "7956dfc8-d870-4847-ac51-5920758ce41e",
   "metadata": {},
   "outputs": [
    {
     "name": "stdout",
     "output_type": "stream",
     "text": [
      "Bucket Name:  gs://medical-imaging-ai_lab1\n",
      "staging directory:  gs://medical-imaging-ai_lab1/LCTSC\n"
     ]
    }
   ],
   "source": [
    "bucket_name = \"gs://\"+PROJECT_ID+\"_lab1\"\n",
    "print(\"Bucket Name: \",bucket_name)\n",
    "stage_dir = bucket_name+\"/LCTSC\"\n",
    "print(\"staging directory: \",stage_dir)"
   ]
  },
  {
   "cell_type": "code",
   "execution_count": 14,
   "id": "ce964d01-f86f-41a6-a68a-ed735ec116af",
   "metadata": {},
   "outputs": [
    {
     "name": "stdout",
     "output_type": "stream",
     "text": [
      "gcs_uri:  gs://medical-imaging-ai_lab1/LCTSC/*.dcm\n"
     ]
    }
   ],
   "source": [
    "dataset_name = \"radiology\"\n",
    "dicom_store_name = \"LCTSC\"\n",
    "gcs_uri = stage_dir+\"/*.dcm\"\n",
    "location = \"us-central1\"\n",
    "project = PROJECT_ID\n",
    "print(\"gcs_uri: \",gcs_uri)"
   ]
  },
  {
   "cell_type": "code",
   "execution_count": 15,
   "id": "ce0a80b0-36c9-4603-82bb-1f7d14833eae",
   "metadata": {},
   "outputs": [
    {
     "name": "stdout",
     "output_type": "stream",
     "text": [
      "1535\n"
     ]
    }
   ],
   "source": [
    "!gsutil ls $stage_dir | wc -l"
   ]
  },
  {
   "cell_type": "code",
   "execution_count": 16,
   "id": "629859ab-d92a-4907-a2bc-1350deefd3e0",
   "metadata": {},
   "outputs": [
    {
     "name": "stdout",
     "output_type": "stream",
     "text": [
      "radiology\n"
     ]
    }
   ],
   "source": [
    "!echo $dataset_name"
   ]
  },
  {
   "cell_type": "code",
   "execution_count": null,
   "id": "38592e3c-9c95-4768-80d4-e3ba9495cc40",
   "metadata": {},
   "outputs": [],
   "source": [
    "# create a DICOM datset\n",
    "!gcloud healthcare datasets create $dataset_name \\\n",
    "    --location=$location \\\n",
    "    --project=$project"
   ]
  },
  {
   "cell_type": "code",
   "execution_count": 3,
   "id": "384aeccb-d15c-484a-8791-dd36ffbb3c32",
   "metadata": {},
   "outputs": [
    {
     "name": "stdout",
     "output_type": "stream",
     "text": [
      "Created dicomStore [LCTSC].\n"
     ]
    }
   ],
   "source": [
    "# create a DICOM store\n",
    "!gcloud healthcare dicom-stores create $dicom_store_name \\\n",
    "  --dataset=$dataset_name \\\n",
    "  --location=$location"
   ]
  },
  {
   "cell_type": "code",
   "execution_count": 15,
   "id": "0c7f01a4-700b-47ac-ae17-e059632963ce",
   "metadata": {},
   "outputs": [
    {
     "name": "stdout",
     "output_type": "stream",
     "text": [
      "Request issued for: [LCTSC]\n",
      "Waiting for operation [projects/medical-imaging-ai/locations/us-central1/datase\n",
      "ts/radiology/operations/1299790906227949569] to complete...failed.             \n",
      "\u001b[1;31mERROR:\u001b[0m (gcloud.healthcare.dicom-stores.import.gcs) {\n",
      "  \"code\": 6,\n",
      "  \"message\": \"Operation execution failed: Some individual resources failed to be imported; see logs URL for more details.\"\n",
      "}\n"
     ]
    }
   ],
   "source": [
    "# import dcm files from LCTSC instances into the store\n",
    "!gcloud healthcare dicom-stores import gcs $dicom_store_name \\\n",
    "  --dataset=$dataset_name \\\n",
    "  --location=$location \\\n",
    "  --gcs-uri=$gcs_uri"
   ]
  }
 ],
 "metadata": {
  "environment": {
   "kernel": "python3",
   "name": "pytorch-gpu.1-12.m98",
   "type": "gcloud",
   "uri": "gcr.io/deeplearning-platform-release/pytorch-gpu.1-12:m98"
  },
  "kernelspec": {
   "display_name": "Python 3",
   "language": "python",
   "name": "python3"
  },
  "language_info": {
   "codemirror_mode": {
    "name": "ipython",
    "version": 3
   },
   "file_extension": ".py",
   "mimetype": "text/x-python",
   "name": "python",
   "nbconvert_exporter": "python",
   "pygments_lexer": "ipython3",
   "version": "3.7.12"
  }
 },
 "nbformat": 4,
 "nbformat_minor": 5
}
